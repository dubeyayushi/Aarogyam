{
 "cells": [
  {
   "cell_type": "markdown",
   "metadata": {
    "id": "xs4XueqDKFXB"
   },
   "source": []
  },
  {
   "cell_type": "code",
   "execution_count": 1,
   "metadata": {
    "colab": {
     "base_uri": "https://localhost:8080/",
     "height": 73
    },
    "id": "kzqRSCejKJUS",
    "outputId": "96feb2fb-af9e-4409-ea70-1f2ceba2a624"
   },
   "outputs": [
    {
     "ename": "ModuleNotFoundError",
     "evalue": "No module named 'google'",
     "output_type": "error",
     "traceback": [
      "\u001b[1;31m---------------------------------------------------------------------------\u001b[0m",
      "\u001b[1;31mModuleNotFoundError\u001b[0m                       Traceback (most recent call last)",
      "Cell \u001b[1;32mIn[1], line 1\u001b[0m\n\u001b[1;32m----> 1\u001b[0m \u001b[38;5;28;01mfrom\u001b[39;00m \u001b[38;5;21;01mgoogle\u001b[39;00m\u001b[38;5;21;01m.\u001b[39;00m\u001b[38;5;21;01mcolab\u001b[39;00m \u001b[38;5;28;01mimport\u001b[39;00m files\n\u001b[0;32m      2\u001b[0m uploaded \u001b[38;5;241m=\u001b[39m files\u001b[38;5;241m.\u001b[39mupload()\n",
      "\u001b[1;31mModuleNotFoundError\u001b[0m: No module named 'google'"
     ]
    }
   ],
   "source": [
    "\n",
    "from google.colab import files\n",
    "uploaded = files.upload()\n",
    "\n"
   ]
  },
  {
   "cell_type": "markdown",
   "metadata": {},
   "source": [
    "# DATA FEATURES\n",
    "\n",
    "•Pregnancies: Number of pregnancies of the patient.\n",
    "\n",
    "•Glucose: Glucose of the patient.\n",
    "\n",
    "•BloodPressure: Blood pressure of the patient.\n",
    "\n",
    "•SkinThickness: Skin thickness of the patient.\n",
    "\n",
    "•Insulin: Insuling of the patient.\n",
    "\n",
    "•BMI: BMI of the patient.\n",
    "\n",
    "•DiabetesPedigreeFunction: Diabetes pedigree function of the patient.\n",
    "\n",
    "•Age: Age of the patient.\n",
    "\n",
    "•Outcome: (TARGET VARIABLE) Whether the patient is likely to suffer from diabetes or not."
   ]
  },
  {
   "cell_type": "markdown",
   "metadata": {
    "id": "KolGvLsnSrw7"
   },
   "source": [
    "# EXPLORATORY DATA ANALYSIS\n",
    "\n",
    "## IMPORTING NECESSARY LIBRARIES"
   ]
  },
  {
   "cell_type": "code",
   "execution_count": null,
   "metadata": {
    "id": "UKszM-H_SYES"
   },
   "outputs": [],
   "source": [
    "import pandas as pd\n",
    "import numpy as np\n",
    "from mpl_toolkits import mplot3d # used in 3D plotting\n",
    "\n",
    "import matplotlib.pyplot as plt # data visualization\n",
    "import warnings\n",
    "warnings.filterwarnings(\"ignore\")\n",
    "import seaborn as sns #"
   ]
  },
  {
   "cell_type": "code",
   "execution_count": null,
   "metadata": {
    "id": "cCD5bOKpLbSP"
   },
   "outputs": [],
   "source": [
    "df = pd.read_csv('diabetes.csv')"
   ]
  },
  {
   "cell_type": "code",
   "execution_count": null,
   "metadata": {
    "colab": {
     "base_uri": "https://localhost:8080/",
     "height": 206
    },
    "id": "zGFAKysCLqPA",
    "outputId": "8431fec7-f96d-4124-a858-93779931014a"
   },
   "outputs": [],
   "source": [
    "df.head()"
   ]
  },
  {
   "cell_type": "code",
   "execution_count": null,
   "metadata": {
    "colab": {
     "base_uri": "https://localhost:8080/"
    },
    "id": "BNgv5UcYMrW9",
    "outputId": "3510815f-c676-40b2-eb67-f57a64fa2de8"
   },
   "outputs": [],
   "source": [
    "df.info()"
   ]
  },
  {
   "cell_type": "code",
   "execution_count": null,
   "metadata": {
    "colab": {
     "base_uri": "https://localhost:8080/",
     "height": 300
    },
    "id": "JagKLV-GNY-i",
    "outputId": "3e99b433-7aed-41dc-d912-77cc403356b4"
   },
   "outputs": [],
   "source": [
    "df.describe()"
   ]
  },
  {
   "cell_type": "markdown",
   "metadata": {},
   "source": [
    "## CORRELATION MATRIX"
   ]
  },
  {
   "cell_type": "code",
   "execution_count": null,
   "metadata": {
    "colab": {
     "base_uri": "https://localhost:8080/",
     "height": 1000
    },
    "id": "nBzTW8wCR3KL",
    "outputId": "2b5661b0-183f-4797-eafd-d55327ae93fd"
   },
   "outputs": [],
   "source": [
    "corr = df.corr()\n",
    "max(corr)\n",
    "plt.figure(figsize=(14,12))\n",
    "sns.heatmap(corr, cmap='YlGnBu', annot=True) \n",
    "plt.show()"
   ]
  },
  {
   "cell_type": "markdown",
   "metadata": {
    "id": "JH5X8t20S26-"
   },
   "source": [
    "## DATA VISUALIZATIONS"
   ]
  },
  {
   "cell_type": "code",
   "execution_count": null,
   "metadata": {
    "colab": {
     "base_uri": "https://localhost:8080/",
     "height": 565
    },
    "id": "FmDj1UewS8f-",
    "outputId": "404b60eb-6de6-4c9b-d2e9-aa285b8f836b"
   },
   "outputs": [],
   "source": [
    "plt.figure(figsize=(15,6))\n",
    "sns.lineplot(x = df['BloodPressure'], y = df['Insulin'])\n",
    "plt.show()"
   ]
  },
  {
   "cell_type": "code",
   "execution_count": null,
   "metadata": {
    "colab": {
     "base_uri": "https://localhost:8080/",
     "height": 466
    },
    "id": "XfWN5h1vTk9H",
    "outputId": "bb157850-1090-416c-8e89-9860911a7555"
   },
   "outputs": [],
   "source": [
    "sns.boxplot(x='BMI', data=df)"
   ]
  },
  {
   "cell_type": "code",
   "execution_count": null,
   "metadata": {
    "colab": {
     "base_uri": "https://localhost:8080/",
     "height": 467
    },
    "id": "uVk66y9-UffX",
    "outputId": "e42f35fb-a262-42cc-d348-7adacd4fb0a7"
   },
   "outputs": [],
   "source": [
    "sns.countplot(x='Pregnancies', data=df)"
   ]
  },
  {
   "cell_type": "code",
   "execution_count": null,
   "metadata": {
    "colab": {
     "base_uri": "https://localhost:8080/",
     "height": 559
    },
    "id": "WWI9U15jUyNA",
    "outputId": "1f362e8f-16e5-4ab9-d6ca-cf4dd69acf14"
   },
   "outputs": [],
   "source": [
    "plt.figure(figsize=(10,6))\n",
    "sns.violinplot(x='Outcome', y='Glucose', data=df)"
   ]
  },
  {
   "cell_type": "code",
   "execution_count": null,
   "metadata": {
    "colab": {
     "base_uri": "https://localhost:8080/",
     "height": 466
    },
    "id": "aiKveMxGV-eC",
    "outputId": "4e87e49a-ec86-471d-80d6-968191b2cfc8"
   },
   "outputs": [],
   "source": [
    "sns.scatterplot(x='BMI', y='Age', hue='Outcome', data=df, palette='Set1')\n",
    "plt.xlabel('BMI')\n",
    "plt.ylabel('Age')"
   ]
  },
  {
   "cell_type": "markdown",
   "metadata": {
    "id": "sExQ4pHvOlnY"
   },
   "source": [
    "## TRAIN TEST SPLITTING"
   ]
  },
  {
   "cell_type": "code",
   "execution_count": null,
   "metadata": {
    "id": "5fuExQcohQ6B"
   },
   "outputs": [],
   "source": [
    "X= df.drop(['Outcome'], axis=1)\n",
    "y = df['Outcome']"
   ]
  },
  {
   "cell_type": "code",
   "execution_count": null,
   "metadata": {
    "id": "HJ8mBlcybH40"
   },
   "outputs": [],
   "source": [
    "from sklearn.model_selection import train_test_split\n",
    "X_train, X_test, y_train, y_test = train_test_split(X, y, test_size=0.2, random_state= 82)"
   ]
  },
  {
   "cell_type": "code",
   "execution_count": null,
   "metadata": {
    "colab": {
     "base_uri": "https://localhost:8080/"
    },
    "id": "KCMhJ3LJnMNu",
    "outputId": "09b610c4-b42f-4334-d0e4-fd8a4c187d1d"
   },
   "outputs": [],
   "source": [
    "pip install lazypredict"
   ]
  },
  {
   "cell_type": "markdown",
   "metadata": {},
   "source": [
    "# CHECKING ACCURACY OF THE MODEL"
   ]
  },
  {
   "cell_type": "code",
   "execution_count": null,
   "metadata": {
    "id": "KK7Adsvun2CD"
   },
   "outputs": [],
   "source": [
    "import lazypredict\n",
    "\n",
    "### importing LazyClassifier for classification problem\n",
    "from lazypredict.Supervised import LazyClassifier\n",
    "clf = LazyClassifier(verbose=0, ignore_warnings=True, custom_metric = None)\n"
   ]
  },
  {
   "cell_type": "code",
   "execution_count": null,
   "metadata": {
    "colab": {
     "base_uri": "https://localhost:8080/"
    },
    "id": "KPERVQHWoXuc",
    "outputId": "199b3c86-6c59-4f16-8ec9-f08461ae28f7"
   },
   "outputs": [],
   "source": [
    "models,predictions = clf.fit(X_train, X_test, y_train, y_test)\n",
    "\n",
    "\n",
    "print(models)"
   ]
  },
  {
   "cell_type": "code",
   "execution_count": null,
   "metadata": {
    "colab": {
     "base_uri": "https://localhost:8080/"
    },
    "id": "7NeB5A_UVYvs",
    "outputId": "56c7bd42-819a-4083-c435-94db3f1544eb"
   },
   "outputs": [],
   "source": [
    "from sklearn.discriminant_analysis import LinearDiscriminantAnalysis\n",
    "from sklearn.model_selection import GridSearchCV\n",
    "lda = LinearDiscriminantAnalysis()\n",
    "\n",
    "# Define the hyperparameters to tune\n",
    "param_grid = {\n",
    "    'solver': ['svd', 'lsqr', 'eigen'],\n",
    "    'shrinkage': ['auto', None],\n",
    "    'n_components': [None, 1, 2, 3]\n",
    "}\n",
    "\n",
    "# Perform grid search cross-validation\n",
    "grid_search = GridSearchCV(lda, param_grid=param_grid, cv=5, n_jobs=-1)\n",
    "grid_search.fit(X_train, y_train)\n",
    "\n",
    "# Print the best hyperparameters and the corresponding score\n",
    "print(f\"Best parameters: {grid_search.best_params_}\")\n",
    "print(f\"Best score: {grid_search.best_score_}\")\n",
    "\n",
    "# Instantiate a new LDA model with the optimized hyperparameters\n",
    "lda = LinearDiscriminantAnalysis(**grid_search.best_params_)\n",
    "\n",
    "# Fit the model on the training data\n",
    "lda.fit(X_train, y_train)\n",
    "\n",
    "# Evaluate the model on the testing data\n",
    "score = lda.score(X_test, y_test)\n",
    "print(f\"Testing accuracy: {score}\")"
   ]
  },
  {
   "cell_type": "code",
   "execution_count": null,
   "metadata": {
    "id": "NL3uS8HzR8Pe"
   },
   "outputs": [],
   "source": [
    "y_pred = lda.predict(X_test)\n"
   ]
  },
  {
   "cell_type": "markdown",
   "metadata": {},
   "source": [
    "# PERFORMANCE MEASURE\n",
    "\n",
    "## CLASSIFICATION REPORT"
   ]
  },
  {
   "cell_type": "code",
   "execution_count": null,
   "metadata": {
    "colab": {
     "base_uri": "https://localhost:8080/"
    },
    "id": "RymmTajbQFwl",
    "outputId": "c625bfa0-2524-41fc-b507-9720c61d77c6"
   },
   "outputs": [],
   "source": [
    "from sklearn.metrics import classification_report\n",
    "print(\"Accuracy on unknown data is\",classification_report(y_test,y_pred))\n",
    "\n"
   ]
  },
  {
   "cell_type": "code",
   "execution_count": null,
   "metadata": {
    "colab": {
     "base_uri": "https://localhost:8080/",
     "height": 206
    },
    "id": "rEvvd-pcRoKi",
    "outputId": "ed25ecc5-1abc-46d1-bbc6-3c47d3845d94"
   },
   "outputs": [],
   "source": [
    "def get_classification_report(y_test, y_pred):\n",
    "    \n",
    "    from sklearn import metrics\n",
    "    report = metrics.classification_report(y_test, y_pred, output_dict=True)\n",
    "    df_classification_report = pd.DataFrame(report).transpose()\n",
    "    df_classification_report = df_classification_report.sort_values(by=['f1-score'], ascending=False)\n",
    "    return df_classification_report\n",
    "\n",
    "s= get_classification_report(y_test, y_pred)\n",
    "s"
   ]
  },
  {
   "cell_type": "markdown",
   "metadata": {},
   "source": [
    "## CONFUSION MATRIX"
   ]
  },
  {
   "cell_type": "code",
   "execution_count": null,
   "metadata": {
    "colab": {
     "base_uri": "https://localhost:8080/",
     "height": 472
    },
    "id": "2Se8mgp9SNWW",
    "outputId": "61b5c3f7-781f-4e6f-9e51-f0fa6a657087"
   },
   "outputs": [],
   "source": [
    "from sklearn.metrics import confusion_matrix\n",
    "cm = confusion_matrix(y_test, y_pred)\n",
    "\n",
    "# Compute the classification report\n",
    "cr = classification_report(y_test, y_pred)\n",
    "\n",
    "# Plot the confusion matrix heatmap\n",
    "sns.heatmap(cm, annot=True, cmap='PuOr', fmt='g', xticklabels=np.unique(y), yticklabels=np.unique(y))\n",
    "plt.title('Confusion Matrix')\n",
    "plt.xlabel('Predicted')\n",
    "plt.ylabel('Actual')\n",
    "plt.show()\n",
    "\n"
   ]
  },
  {
   "cell_type": "markdown",
   "metadata": {
    "id": "teIA7bIeSZvH"
   },
   "source": [
    "# PICKLING THE MODEL"
   ]
  },
  {
   "cell_type": "code",
   "execution_count": null,
   "metadata": {
    "id": "ZIutni5L0fzq"
   },
   "outputs": [],
   "source": [
    "import pickle\n",
    "with open('diabetes.pkl', 'wb') as files:\n",
    "    pickle.dump(lda,files)"
   ]
  },
  {
   "cell_type": "code",
   "execution_count": null,
   "metadata": {
    "id": "x5kjMpkdYONp"
   },
   "outputs": [],
   "source": []
  }
 ],
 "metadata": {
  "colab": {
   "provenance": []
  },
  "kernelspec": {
   "display_name": "Python 3 (ipykernel)",
   "language": "python",
   "name": "python3"
  },
  "language_info": {
   "codemirror_mode": {
    "name": "ipython",
    "version": 3
   },
   "file_extension": ".py",
   "mimetype": "text/x-python",
   "name": "python",
   "nbconvert_exporter": "python",
   "pygments_lexer": "ipython3",
   "version": "3.11.1"
  }
 },
 "nbformat": 4,
 "nbformat_minor": 1
}
